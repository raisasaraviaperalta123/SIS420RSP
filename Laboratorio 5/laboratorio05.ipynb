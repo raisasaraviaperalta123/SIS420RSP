{
  "nbformat": 4,
  "nbformat_minor": 0,
  "metadata": {
    "colab": {
      "provenance": []
    },
    "kernelspec": {
      "name": "python3",
      "display_name": "Python 3"
    },
    "language_info": {
      "name": "python"
    }
  },
  "cells": [
    {
      "cell_type": "code",
      "execution_count": 20,
      "metadata": {
        "id": "_fG0Sr4QzAoN",
        "colab": {
          "base_uri": "https://localhost:8080/"
        },
        "outputId": "0e76c5ae-7ba1-4468-9972-897bed130440"
      },
      "outputs": [
        {
          "output_type": "stream",
          "name": "stdout",
          "text": [
            "Drive already mounted at /content/gdrive/; to attempt to forcibly remount, call drive.mount(\"/content/gdrive/\", force_remount=True).\n"
          ]
        }
      ],
      "source": [
        "from google.colab import drive\n",
        "drive.mount('/content/gdrive/')"
      ]
    },
    {
      "cell_type": "code",
      "source": [
        "import sys\n",
        "sys.path.append('/content/gdrive/MyDrive/Colab Notebooks/Busquedas informadas')\n",
        "\n",
        "from NodosBI import NodoBI"
      ],
      "metadata": {
        "id": "FDHJgjP-zWU5"
      },
      "execution_count": 32,
      "outputs": []
    },
    {
      "cell_type": "code",
      "source": [
        "def generar_hijos(estado_actual):\n",
        "    hijos = []\n",
        "    n = len(estado_actual)\n",
        "\n",
        "    for i in range(n - 1):\n",
        "        hijo = estado_actual[:]  # Copiar el estado actual para no modificarlo\n",
        "        hijo[i], hijo[i + 1] = hijo[i + 1], hijo[i]  # Intercambiar dos elementos adyacentes\n",
        "        hijos.append(hijo)\n",
        "\n",
        "    return hijos\n",
        "\n",
        "def busqueda_heuristica(nodo_inicial, solucion, visitados, heuristica_func):\n",
        "    visitados.append(nodo_inicial.get_estado())\n",
        "\n",
        "    if nodo_inicial.get_estado() == solucion:\n",
        "        return nodo_inicial\n",
        "    else:\n",
        "        # Expandir nodos sucesores (hijos)\n",
        "        nodo_estado = nodo_inicial.get_estado()\n",
        "        hijos = generar_hijos(nodo_estado)\n",
        "\n",
        "        for hijo_estado in hijos:\n",
        "            hijo_node = NodoBI(hijo_estado, nodo_inicial)\n",
        "            if hijo_node.get_estado() not in visitados and heuristica_func(nodo_inicial, hijo_node, solucion):\n",
        "                # Llamada recursiva\n",
        "                solu = busqueda_heuristica(hijo_node, solucion, visitados, heuristica_func)\n",
        "                if solu is not None:\n",
        "                    return solu\n",
        "        return None\n",
        "\n",
        "\n",
        "def heuristica(padre_node, hijo_node):\n",
        "    padre_quality = 0\n",
        "    hijo_quality = 0\n",
        "    padre_data = padre_node.get_estado()\n",
        "    hijo_data = hijo_node.get_estado()\n",
        "\n",
        "    for n in range(1, len(padre_data)):\n",
        "        if padre_data[n] > padre_data[n - 1]:\n",
        "            padre_quality = padre_quality + 1\n",
        "        if hijo_data[n] > hijo_data[n - 1]:\n",
        "            hijo_quality = hijo_quality + 1\n",
        "\n",
        "    if hijo_quality >= padre_quality:\n",
        "        return True\n",
        "    else:\n",
        "        return False"
      ],
      "metadata": {
        "id": "DNHMfQr-Ij8b"
      },
      "execution_count": 66,
      "outputs": []
    },
    {
      "cell_type": "code",
      "source": [
        "def heuristica_inversiones(padre_node, hijo_node, solucion):\n",
        "    padre_data = padre_node.get_estado()\n",
        "    hijo_data = hijo_node.get_estado()\n",
        "    solucion_data = solucion\n",
        "\n",
        "    inversiones_padre = 0\n",
        "    inversiones_hijo = 0\n",
        "\n",
        "    for i in range(len(padre_data)):\n",
        "        for j in range(i + 1, len(padre_data)):\n",
        "            if padre_data[i] > padre_data[j]:\n",
        "                inversiones_padre += 1\n",
        "            if hijo_data[i] > hijo_data[j]:\n",
        "                inversiones_hijo += 1\n",
        "\n",
        "    return inversiones_hijo <= inversiones_padre\n"
      ],
      "metadata": {
        "id": "AF0sY4SULRtc"
      },
      "execution_count": 67,
      "outputs": []
    },
    {
      "cell_type": "code",
      "source": [
        "def heuristica_digitos_en_posicion_final(padre_node, hijo_node, solucion):\n",
        "    padre_data = padre_node.get_estado()\n",
        "    solucion_data = solucion\n",
        "\n",
        "    digitos_en_posicion_final_padre = sum(1 for i, j in zip(padre_data, solucion_data) if i == j)\n",
        "    digitos_en_posicion_final_hijo = sum(1 for i, j in zip(hijo_node.get_estado(), solucion_data) if i == j)\n",
        "\n",
        "    return digitos_en_posicion_final_hijo >= digitos_en_posicion_final_padre\n"
      ],
      "metadata": {
        "id": "jJlONkLMN7Sv"
      },
      "execution_count": 71,
      "outputs": []
    },
    {
      "cell_type": "code",
      "source": [
        "def heuristica_distancia_a_posicion_final(padre_node, hijo_node, solucion):\n",
        "    solucion_data = solucion\n",
        "\n",
        "    distancia_padre = sum(abs(i - j) for i, j in zip(padre_node.get_estado(), solucion_data))\n",
        "    distancia_hijo = sum(abs(i - j) for i, j in zip(hijo_node.get_estado(), solucion_data))\n",
        "\n",
        "    return distancia_hijo <= distancia_padre"
      ],
      "metadata": {
        "id": "Cc6rwcAmSlVB"
      },
      "execution_count": 86,
      "outputs": []
    },
    {
      "cell_type": "code",
      "source": [
        "if __name__ == \"__main__\":\n",
        "    # Define el estado inicial y la solución con nuevos valores\n",
        "    estado_inicial = [7, 3, 1, 5, 4, 2, 6, 8]  # Cambia esta lista con los valores que desees resolver.\n",
        "    estado_solucion = sorted(estado_inicial)\n",
        "\n",
        "    visitados_nodes = []\n",
        "    nodo_inicial = NodoBI(estado_inicial)\n",
        "\n",
        "    # Utiliza una de las tres heurísticas (puedes cambiar la heurística aquí)\n",
        "    nodo_solucion = busqueda_heuristica(nodo_inicial, estado_solucion, visitados_nodes, heuristica_inversiones)\n",
        "\n",
        "    if nodo_solucion is not None:\n",
        "        resultado = []\n",
        "        node = nodo_solucion\n",
        "        while node is not None:\n",
        "            resultado.append(node.get_estado())\n",
        "            node = node.get_padre()\n",
        "        resultado.reverse()\n",
        "        print(\"Solución encontrada:\")\n",
        "        for estado in resultado:\n",
        "            print(estado)\n",
        "    else:\n",
        "        print(\"No se encontró solución.\")\n",
        "\n",
        "        print(\"No se encontró solución.\")"
      ],
      "metadata": {
        "colab": {
          "base_uri": "https://localhost:8080/"
        },
        "id": "L3iIynidSzJG",
        "outputId": "49928e18-0ed6-4b72-dca3-b0baa769347d"
      },
      "execution_count": 90,
      "outputs": [
        {
          "output_type": "stream",
          "name": "stdout",
          "text": [
            "Solución encontrada:\n",
            "[7, 3, 1, 5, 4, 2, 6, 8]\n",
            "[3, 7, 1, 5, 4, 2, 6, 8]\n",
            "[3, 1, 7, 5, 4, 2, 6, 8]\n",
            "[1, 3, 7, 5, 4, 2, 6, 8]\n",
            "[1, 3, 5, 7, 4, 2, 6, 8]\n",
            "[1, 3, 5, 4, 7, 2, 6, 8]\n",
            "[1, 3, 4, 5, 7, 2, 6, 8]\n",
            "[1, 3, 4, 5, 2, 7, 6, 8]\n",
            "[1, 3, 4, 2, 5, 7, 6, 8]\n",
            "[1, 3, 2, 4, 5, 7, 6, 8]\n",
            "[1, 2, 3, 4, 5, 7, 6, 8]\n",
            "[1, 2, 3, 4, 5, 6, 7, 8]\n"
          ]
        }
      ]
    },
    {
      "cell_type": "code",
      "source": [
        "if __name__ == \"__main__\":\n",
        "    # Define el estado inicial y la solución con nuevos valores\n",
        "    estado_inicial = [7, 3, 1, 5, 4, 2, 6, 8]  # Cambia esta lista con los valores que desees resolver.\n",
        "    estado_solucion = sorted(estado_inicial)\n",
        "\n",
        "    visitados_nodes = []\n",
        "    nodo_inicial = NodoBI(estado_inicial)\n",
        "\n",
        "    # Utiliza una de las tres heurísticas (puedes cambiar la heurística aquí)\n",
        "    nodo_solucion = busqueda_heuristica(nodo_inicial, estado_solucion, visitados_nodes, heuristica_digitos_en_posicion_final)\n",
        "\n",
        "    if nodo_solucion is not None:\n",
        "        resultado = []\n",
        "        node = nodo_solucion\n",
        "        while node is not None:\n",
        "            resultado.append(node.get_estado())\n",
        "            node = node.get_padre()\n",
        "        resultado.reverse()\n",
        "        print(\"Solución encontrada:\")\n",
        "        for estado in resultado:\n",
        "            print(estado)\n",
        "    else:\n",
        "        print(\"No se encontró solución.\")\n",
        "\n",
        "        print(\"No se encontró solución.\")"
      ],
      "metadata": {
        "colab": {
          "base_uri": "https://localhost:8080/"
        },
        "id": "7TK31n6s6_0D",
        "outputId": "2b1c3707-0617-42df-9f1f-5907c7ade5df"
      },
      "execution_count": 91,
      "outputs": [
        {
          "output_type": "stream",
          "name": "stdout",
          "text": [
            "Solución encontrada:\n",
            "[7, 3, 1, 5, 4, 2, 6, 8]\n",
            "[3, 7, 1, 5, 4, 2, 6, 8]\n",
            "[3, 1, 7, 5, 4, 2, 6, 8]\n",
            "[1, 3, 7, 5, 4, 2, 6, 8]\n",
            "[1, 3, 5, 7, 4, 2, 6, 8]\n",
            "[1, 3, 5, 7, 2, 4, 6, 8]\n",
            "[1, 3, 5, 2, 7, 4, 6, 8]\n",
            "[1, 3, 2, 5, 7, 4, 6, 8]\n",
            "[1, 2, 3, 5, 7, 4, 6, 8]\n",
            "[1, 2, 3, 5, 4, 7, 6, 8]\n",
            "[1, 2, 3, 4, 5, 7, 6, 8]\n",
            "[1, 2, 3, 4, 5, 6, 7, 8]\n"
          ]
        }
      ]
    },
    {
      "cell_type": "code",
      "source": [
        "if __name__ == \"__main__\":\n",
        "    # Define el estado inicial y la solución con nuevos valores\n",
        "    estado_inicial = [7, 3, 1, 5, 4, 2, 6, 8]  # Cambia esta lista con los valores que desees resolver.\n",
        "    estado_solucion = sorted(estado_inicial)\n",
        "\n",
        "    visitados_nodes = []\n",
        "    nodo_inicial = NodoBI(estado_inicial)\n",
        "\n",
        "    # Utiliza una de las tres heurísticas (puedes cambiar la heurística aquí)\n",
        "    nodo_solucion = busqueda_heuristica(nodo_inicial, estado_solucion, visitados_nodes, heuristica_distancia_a_posicion_final)\n",
        "\n",
        "    if nodo_solucion is not None:\n",
        "        resultado = []\n",
        "        node = nodo_solucion\n",
        "        while node is not None:\n",
        "            resultado.append(node.get_estado())\n",
        "            node = node.get_padre()\n",
        "        resultado.reverse()\n",
        "        print(\"Solución encontrada:\")\n",
        "        for estado in resultado:\n",
        "            print(estado)\n",
        "    else:\n",
        "        print(\"No se encontró solución.\")\n",
        "\n",
        "        print(\"No se encontró solución.\")"
      ],
      "metadata": {
        "colab": {
          "base_uri": "https://localhost:8080/"
        },
        "id": "9QP87YFnSnFM",
        "outputId": "282b26c6-8e64-438d-e074-a51f289b8b50"
      },
      "execution_count": 92,
      "outputs": [
        {
          "output_type": "stream",
          "name": "stdout",
          "text": [
            "Solución encontrada:\n",
            "[7, 3, 1, 5, 4, 2, 6, 8]\n",
            "[3, 7, 1, 5, 4, 2, 6, 8]\n",
            "[3, 1, 7, 5, 4, 2, 6, 8]\n",
            "[1, 3, 7, 5, 4, 2, 6, 8]\n",
            "[1, 7, 3, 5, 4, 2, 6, 8]\n",
            "[1, 7, 3, 4, 5, 2, 6, 8]\n",
            "[1, 3, 7, 4, 5, 2, 6, 8]\n",
            "[1, 3, 4, 7, 5, 2, 6, 8]\n",
            "[1, 4, 3, 7, 5, 2, 6, 8]\n",
            "[1, 4, 3, 5, 7, 2, 6, 8]\n",
            "[1, 3, 4, 5, 7, 2, 6, 8]\n",
            "[1, 3, 5, 4, 7, 2, 6, 8]\n",
            "[1, 5, 3, 4, 7, 2, 6, 8]\n",
            "[1, 5, 3, 4, 2, 7, 6, 8]\n",
            "[1, 3, 5, 4, 2, 7, 6, 8]\n",
            "[1, 3, 4, 5, 2, 7, 6, 8]\n",
            "[1, 4, 3, 5, 2, 7, 6, 8]\n",
            "[1, 4, 3, 2, 5, 7, 6, 8]\n",
            "[1, 3, 4, 2, 5, 7, 6, 8]\n",
            "[1, 3, 2, 4, 5, 7, 6, 8]\n",
            "[1, 2, 3, 4, 5, 7, 6, 8]\n",
            "[1, 2, 3, 4, 5, 6, 7, 8]\n"
          ]
        }
      ]
    },
    {
      "cell_type": "markdown",
      "source": [
        "Bajo el ejemplo usado el más efectivo de los tres es el de distancia_a_posicion final y esto debido a que la velocidad de solución es casi la mitad de las otras dos heuristicas"
      ],
      "metadata": {
        "id": "JE76VktqTYH4"
      }
    },
    {
      "cell_type": "code",
      "source": [
        "def heuristica_digitos_en_orden_ascendente(padre_node, hijo_node, solucion):\n",
        "    padre_data = padre_node.get_estado()\n",
        "    solucion_data = solucion\n",
        "\n",
        "    digitos_en_orden_ascendente_padre = 0\n",
        "    digitos_en_orden_ascendente_hijo = 0\n",
        "\n",
        "    for i in range(len(padre_data)):\n",
        "        if padre_data[i] == solucion_data[i]:\n",
        "            digitos_en_orden_ascendente_padre += 1\n",
        "        if hijo_node.get_estado()[i] == solucion_data[i]:\n",
        "            digitos_en_orden_ascendente_hijo += 1\n",
        "\n",
        "    return digitos_en_orden_ascendente_hijo >= digitos_en_orden_ascendente_padre\n"
      ],
      "metadata": {
        "id": "80zwd0_AT9S1"
      },
      "execution_count": 93,
      "outputs": []
    },
    {
      "cell_type": "code",
      "source": [
        "if __name__ == \"__main__\":\n",
        "    # Define el estado inicial y la solución con nuevos valores\n",
        "    estado_inicial = [7, 3, 1, 5, 4, 2, 6, 8]  # Cambia esta lista con los valores que desees resolver.\n",
        "    estado_solucion = sorted(estado_inicial)\n",
        "\n",
        "    visitados_nodes = []\n",
        "    nodo_inicial = NodoBI(estado_inicial)\n",
        "\n",
        "    # Utiliza una de las tres heurísticas (puedes cambiar la heurística aquí)\n",
        "    nodo_solucion = busqueda_heuristica(nodo_inicial, estado_solucion, visitados_nodes, heuristica_digitos_en_orden_ascendente)\n",
        "\n",
        "    if nodo_solucion is not None:\n",
        "        resultado = []\n",
        "        node = nodo_solucion\n",
        "        while node is not None:\n",
        "            resultado.append(node.get_estado())\n",
        "            node = node.get_padre()\n",
        "        resultado.reverse()\n",
        "        print(\"Solución encontrada:\")\n",
        "        for estado in resultado:\n",
        "            print(estado)\n",
        "    else:\n",
        "        print(\"No se encontró solución.\")\n",
        "\n",
        "        print(\"No se encontró solución.\")"
      ],
      "metadata": {
        "colab": {
          "base_uri": "https://localhost:8080/"
        },
        "id": "8e7EwLaVUDdL",
        "outputId": "a7991720-ddd8-4240-9145-05af8ec444a4"
      },
      "execution_count": 94,
      "outputs": [
        {
          "output_type": "stream",
          "name": "stdout",
          "text": [
            "Solución encontrada:\n",
            "[7, 3, 1, 5, 4, 2, 6, 8]\n",
            "[3, 7, 1, 5, 4, 2, 6, 8]\n",
            "[3, 1, 7, 5, 4, 2, 6, 8]\n",
            "[1, 3, 7, 5, 4, 2, 6, 8]\n",
            "[1, 3, 5, 7, 4, 2, 6, 8]\n",
            "[1, 3, 5, 7, 2, 4, 6, 8]\n",
            "[1, 3, 5, 2, 7, 4, 6, 8]\n",
            "[1, 3, 2, 5, 7, 4, 6, 8]\n",
            "[1, 2, 3, 5, 7, 4, 6, 8]\n",
            "[1, 2, 3, 5, 4, 7, 6, 8]\n",
            "[1, 2, 3, 4, 5, 7, 6, 8]\n",
            "[1, 2, 3, 4, 5, 6, 7, 8]\n"
          ]
        }
      ]
    }
  ]
}