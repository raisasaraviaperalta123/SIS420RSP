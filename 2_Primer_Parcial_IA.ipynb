{
  "nbformat": 4,
  "nbformat_minor": 0,
  "metadata": {
    "colab": {
      "provenance": []
    },
    "kernelspec": {
      "name": "python3",
      "display_name": "Python 3"
    },
    "language_info": {
      "name": "python"
    }
  },
  "cells": [
    {
      "cell_type": "code",
      "execution_count": 205,
      "metadata": {
        "colab": {
          "base_uri": "https://localhost:8080/"
        },
        "id": "rPwf9SulL2HM",
        "outputId": "e557effc-f2f9-457f-ecdb-64ff6f9e5048"
      },
      "outputs": [
        {
          "output_type": "stream",
          "name": "stdout",
          "text": [
            "Drive already mounted at /content/drive; to attempt to forcibly remount, call drive.mount(\"/content/drive\", force_remount=True).\n"
          ]
        }
      ],
      "source": [
        "from google.colab import drive\n",
        "drive.mount('/content/drive')"
      ]
    },
    {
      "cell_type": "code",
      "source": [
        "# utilizado para manejos de directorios y rutas\n",
        "import os\n",
        "\n",
        "# Computacion vectorial y cientifica para python\n",
        "import numpy as np\n",
        "\n",
        "# Librerias para graficación (trazado de gráficos)\n",
        "from matplotlib import pyplot\n",
        "from mpl_toolkits.mplot3d import Axes3D  # Necesario para graficar superficies 3D\n",
        "\n",
        "# llama a matplotlib a embeber graficas dentro de los cuadernillos\n",
        "%matplotlib inline"
      ],
      "metadata": {
        "id": "FHa7qtdiMBUY"
      },
      "execution_count": 206,
      "outputs": []
    },
    {
      "cell_type": "code",
      "source": [
        "import pandas as pd\n",
        "from sklearn.preprocessing import LabelEncoder\n",
        "from datetime import datetime"
      ],
      "metadata": {
        "id": "ohSB1Z5lMFfn"
      },
      "execution_count": 207,
      "outputs": []
    },
    {
      "cell_type": "code",
      "source": [
        "#Carga de dataset\n",
        "data = pd.read_csv('/content/drive/MyDrive/Colab Notebooks/machine learning/Datasets/datos2.csv')"
      ],
      "metadata": {
        "id": "diC_FmNcM2tW"
      },
      "execution_count": 208,
      "outputs": []
    },
    {
      "cell_type": "code",
      "source": [
        "#imprimimos el dataset\n",
        "print(data)"
      ],
      "metadata": {
        "colab": {
          "base_uri": "https://localhost:8080/"
        },
        "id": "ZvY9K72IM-W5",
        "outputId": "e9e40ba2-4259-40a8-fc50-13a6dbe0135e"
      },
      "execution_count": 209,
      "outputs": [
        {
          "output_type": "stream",
          "name": "stdout",
          "text": [
            "   Tipo de Propiedad     Sector Total construido      Precio  \\\n",
            "0       Departamento       Same           160 m�  USD160.000   \n",
            "1               Casa  El Bosque           960 m�  USD800.000   \n",
            "2               Casa    Cumbay�           275 m�  USD360.000   \n",
            "3            Terreno      Checa              NaN  USD275.000   \n",
            "4               Casa    Cumbay�          1740 m�  USD850.000   \n",
            "..               ...        ...              ...         ...   \n",
            "93           Terreno     Puembo              NaN  USD270.600   \n",
            "94           Terreno  Carapungo              NaN  USD774.000   \n",
            "95              Casa    Tumbaco           200 m�  USD360.000   \n",
            "96      Departamento  Miravalle           151 m�  USD190.000   \n",
            "97              Casa    Tumbaco           322 m�  USD340.000   \n",
            "\n",
            "                          Referencia  Dormitorios  Ba�os Superficie  Ambientes  \n",
            "0              El Muelle, Esmeraldas          3.0    2.0        NaN        4.0  \n",
            "1   Sector Uni�n Nacional, El Bosque          5.0    5.0    1443 m�        6.0  \n",
            "2    Cumbay�, junto al Colegio Menor          3.0    3.0      60 m�        4.0  \n",
            "3                              Checa          NaN    NaN    5000 m�        NaN  \n",
            "4                              Tanda          4.0    3.0        NaN        NaN  \n",
            "..                               ...          ...    ...        ...        ...  \n",
            "93      Puembo, Urbanizaci�n Sequoia          NaN    NaN    1230 m�        NaN  \n",
            "94                   GEOVANNY CALLES          NaN    NaN        NaN        NaN  \n",
            "95   Tumbaco, Sector Buena Esperanza          4.0    3.0    1490 m�        5.0  \n",
            "96                       Miravalle 4          3.0    2.0      40 m�        4.0  \n",
            "97                   Sector Hilacril          3.0    3.0     300 m�        5.0  \n",
            "\n",
            "[98 rows x 9 columns]\n"
          ]
        }
      ]
    },
    {
      "cell_type": "code",
      "source": [
        "data.info()"
      ],
      "metadata": {
        "colab": {
          "base_uri": "https://localhost:8080/"
        },
        "id": "4ujMCLjLO2xI",
        "outputId": "86957bff-4201-4555-d79e-6cd8aff6f640"
      },
      "execution_count": 210,
      "outputs": [
        {
          "output_type": "stream",
          "name": "stdout",
          "text": [
            "<class 'pandas.core.frame.DataFrame'>\n",
            "RangeIndex: 98 entries, 0 to 97\n",
            "Data columns (total 9 columns):\n",
            " #   Column             Non-Null Count  Dtype  \n",
            "---  ------             --------------  -----  \n",
            " 0   Tipo de Propiedad  98 non-null     object \n",
            " 1   Sector             98 non-null     object \n",
            " 2   Total construido   59 non-null     object \n",
            " 3   Precio             98 non-null     object \n",
            " 4   Referencia         98 non-null     object \n",
            " 5   Dormitorios        53 non-null     float64\n",
            " 6   Ba�os              55 non-null     float64\n",
            " 7   Superficie         76 non-null     object \n",
            " 8   Ambientes          50 non-null     float64\n",
            "dtypes: float64(3), object(6)\n",
            "memory usage: 7.0+ KB\n"
          ]
        }
      ]
    },
    {
      "cell_type": "code",
      "source": [
        "#ELIMINAMOS COLUMNAS QUE DIFICULTEN EL CÁLCULO"
      ],
      "metadata": {
        "id": "XA3sNVRTbZKu"
      },
      "execution_count": 211,
      "outputs": []
    },
    {
      "cell_type": "code",
      "source": [
        "columnas_eliminar = ['Precio']\n",
        "simbolo = 'USD'\n",
        "\n",
        "for columna in columnas_eliminar:\n",
        "    data[columna] = data[columna].str.replace(simbolo, '', regex=False)"
      ],
      "metadata": {
        "id": "nAC8xOgcbBH_"
      },
      "execution_count": 212,
      "outputs": []
    },
    {
      "cell_type": "code",
      "source": [
        "columnas_eliminar = ['Superficie']\n",
        "simbolo = '�'\n",
        "\n",
        "for columna in columnas_eliminar:\n",
        "    data[columna] = data[columna].str.replace(simbolo, '', regex=False)"
      ],
      "metadata": {
        "id": "323RHlyEVKJ1"
      },
      "execution_count": 213,
      "outputs": []
    },
    {
      "cell_type": "code",
      "source": [
        "data.info()"
      ],
      "metadata": {
        "colab": {
          "base_uri": "https://localhost:8080/"
        },
        "id": "RkR1yMlpPwdC",
        "outputId": "415516e6-51bd-4a58-a60f-77eecae935b2"
      },
      "execution_count": 214,
      "outputs": [
        {
          "output_type": "stream",
          "name": "stdout",
          "text": [
            "<class 'pandas.core.frame.DataFrame'>\n",
            "RangeIndex: 98 entries, 0 to 97\n",
            "Data columns (total 9 columns):\n",
            " #   Column             Non-Null Count  Dtype  \n",
            "---  ------             --------------  -----  \n",
            " 0   Tipo de Propiedad  98 non-null     object \n",
            " 1   Sector             98 non-null     object \n",
            " 2   Total construido   59 non-null     object \n",
            " 3   Precio             98 non-null     object \n",
            " 4   Referencia         98 non-null     object \n",
            " 5   Dormitorios        53 non-null     float64\n",
            " 6   Ba�os              55 non-null     float64\n",
            " 7   Superficie         76 non-null     object \n",
            " 8   Ambientes          50 non-null     float64\n",
            "dtypes: float64(3), object(6)\n",
            "memory usage: 7.0+ KB\n"
          ]
        }
      ]
    },
    {
      "cell_type": "code",
      "source": [
        "#llenar datos vacios\n",
        "columnas_especificas = ['Dormitorios', 'Ba�os', 'Superficie','Ambientes','Total construido']\n",
        "media_columnas = data[columnas_especificas].mean()\n",
        "data[columnas_especificas] = data[columnas_especificas].fillna(media_columnas)"
      ],
      "metadata": {
        "colab": {
          "base_uri": "https://localhost:8080/"
        },
        "id": "KnyDBbQklqBD",
        "outputId": "63d89925-b548-4ec8-b4cb-8d5a242dcbdb"
      },
      "execution_count": 215,
      "outputs": [
        {
          "output_type": "stream",
          "name": "stderr",
          "text": [
            "<ipython-input-215-a3311b1907f5>:3: FutureWarning: The default value of numeric_only in DataFrame.mean is deprecated. In a future version, it will default to False. In addition, specifying 'numeric_only=None' is deprecated. Select only valid columns or specify the value of numeric_only to silence this warning.\n",
            "  media_columnas = data[columnas_especificas].mean()\n"
          ]
        }
      ]
    },
    {
      "cell_type": "code",
      "source": [
        "#captando variables categoricas\n",
        "columnas_categoricas = data.select_dtypes(include=['object']).columns"
      ],
      "metadata": {
        "id": "3ogRemcdPp38"
      },
      "execution_count": 216,
      "outputs": []
    },
    {
      "cell_type": "code",
      "source": [
        "#Procesamiento de las categoricas\n",
        "for columna in columnas_categoricas:\n",
        "  le = LabelEncoder()\n",
        "  data[columna] = le.fit_transform(data[columna])"
      ],
      "metadata": {
        "id": "jVcX_i57P16i"
      },
      "execution_count": 217,
      "outputs": []
    },
    {
      "cell_type": "code",
      "source": [
        "data.info()"
      ],
      "metadata": {
        "colab": {
          "base_uri": "https://localhost:8080/"
        },
        "id": "axYcIDncQBiy",
        "outputId": "12bcbcff-29c2-4be9-d177-b47193bf8fa8"
      },
      "execution_count": 218,
      "outputs": [
        {
          "output_type": "stream",
          "name": "stdout",
          "text": [
            "<class 'pandas.core.frame.DataFrame'>\n",
            "RangeIndex: 98 entries, 0 to 97\n",
            "Data columns (total 9 columns):\n",
            " #   Column             Non-Null Count  Dtype  \n",
            "---  ------             --------------  -----  \n",
            " 0   Tipo de Propiedad  98 non-null     int64  \n",
            " 1   Sector             98 non-null     int64  \n",
            " 2   Total construido   98 non-null     int64  \n",
            " 3   Precio             98 non-null     int64  \n",
            " 4   Referencia         98 non-null     int64  \n",
            " 5   Dormitorios        98 non-null     float64\n",
            " 6   Ba�os              98 non-null     float64\n",
            " 7   Superficie         98 non-null     int64  \n",
            " 8   Ambientes          98 non-null     float64\n",
            "dtypes: float64(3), int64(6)\n",
            "memory usage: 7.0 KB\n"
          ]
        }
      ]
    },
    {
      "cell_type": "code",
      "source": [
        "# Lectura de Datos\n",
        "X = data.iloc[:, :8]\n",
        "y = data.iloc[:, 8]\n",
        "m = y.size"
      ],
      "metadata": {
        "id": "k2VzFlbsQpxM"
      },
      "execution_count": 219,
      "outputs": []
    },
    {
      "cell_type": "code",
      "source": [
        "print(X)\n",
        "print(y)\n",
        "print(m)"
      ],
      "metadata": {
        "colab": {
          "base_uri": "https://localhost:8080/"
        },
        "id": "-he9rPdxThy6",
        "outputId": "79e915ce-abcc-4254-993d-98957cf407ce"
      },
      "execution_count": 220,
      "outputs": [
        {
          "output_type": "stream",
          "name": "stdout",
          "text": [
            "    Tipo de Propiedad  Sector  Total construido  Precio  Referencia  \\\n",
            "0                   1      18                13      14          15   \n",
            "1                   0       7                57      71          48   \n",
            "2                   0       6                31      46          12   \n",
            "3                   5       5                58      34           5   \n",
            "4                   0       6                16      74          50   \n",
            "..                ...     ...               ...     ...         ...   \n",
            "93                  5      17                58      33          33   \n",
            "94                  5       2                58      68          19   \n",
            "95                  0      20                21      46          53   \n",
            "96                  1      12                10      16          24   \n",
            "97                  0      20                38      44          45   \n",
            "\n",
            "    Dormitorios     Ba�os  Superficie  \n",
            "0      3.000000  2.000000          72  \n",
            "1      5.000000  5.000000          23  \n",
            "2      3.000000  3.000000          58  \n",
            "3      3.320755  2.890909          52  \n",
            "4      4.000000  3.000000          72  \n",
            "..          ...       ...         ...  \n",
            "93     3.320755  2.890909          16  \n",
            "94     3.320755  2.890909          72  \n",
            "95     4.000000  3.000000          25  \n",
            "96     3.000000  2.000000          47  \n",
            "97     3.000000  3.000000          43  \n",
            "\n",
            "[98 rows x 8 columns]\n",
            "0     4.00\n",
            "1     6.00\n",
            "2     4.00\n",
            "3     4.86\n",
            "4     4.86\n",
            "      ... \n",
            "93    4.86\n",
            "94    4.86\n",
            "95    5.00\n",
            "96    4.00\n",
            "97    5.00\n",
            "Name: Ambientes, Length: 98, dtype: float64\n",
            "98\n"
          ]
        }
      ]
    },
    {
      "cell_type": "code",
      "source": [
        "#GRAFICAMOS DATOS"
      ],
      "metadata": {
        "id": "yIG2nVjGblT8"
      },
      "execution_count": 221,
      "outputs": []
    },
    {
      "cell_type": "code",
      "source": [
        "def plotData(x, y):\n",
        "    #Grafica los puntos x e y en una figura nueva.\n",
        "\n",
        "    fig = pyplot.figure()  # abre una nueva figura\n",
        "\n",
        "    pyplot.plot(x, y, 'ro', ms=10, mec='k')\n",
        "    pyplot.ylabel('Precio')\n",
        "    pyplot.xlabel('Superficie')"
      ],
      "metadata": {
        "id": "OvraPsU8TmC9"
      },
      "execution_count": 222,
      "outputs": []
    },
    {
      "cell_type": "code",
      "source": [
        "plotData(X, y)"
      ],
      "metadata": {
        "colab": {
          "base_uri": "https://localhost:8080/",
          "height": 449
        },
        "id": "Lu0oJu5iWYTu",
        "outputId": "72cd84b5-ed7a-43a6-9d63-a9d95d6e7c37"
      },
      "execution_count": 223,
      "outputs": [
        {
          "output_type": "display_data",
          "data": {
            "text/plain": [
              "<Figure size 640x480 with 1 Axes>"
            ],
            "image/png": "[encoded data removed]"
          },
          "metadata": {}
        }
      ]
    },
    {
      "cell_type": "code",
      "source": [
        "print(X)\n",
        "print('*'*16)\n",
        "print(y)"
      ],
      "metadata": {
        "colab": {
          "base_uri": "https://localhost:8080/"
        },
        "id": "1Ju-OJ3UYzPa",
        "outputId": "f95b00b3-c5d9-4a3c-bff1-95ae4b22bcb7"
      },
      "execution_count": 224,
      "outputs": [
        {
          "output_type": "stream",
          "name": "stdout",
          "text": [
            "    Tipo de Propiedad  Sector  Total construido  Precio  Referencia  \\\n",
            "0                   1      18                13      14          15   \n",
            "1                   0       7                57      71          48   \n",
            "2                   0       6                31      46          12   \n",
            "3                   5       5                58      34           5   \n",
            "4                   0       6                16      74          50   \n",
            "..                ...     ...               ...     ...         ...   \n",
            "93                  5      17                58      33          33   \n",
            "94                  5       2                58      68          19   \n",
            "95                  0      20                21      46          53   \n",
            "96                  1      12                10      16          24   \n",
            "97                  0      20                38      44          45   \n",
            "\n",
            "    Dormitorios     Ba�os  Superficie  \n",
            "0      3.000000  2.000000          72  \n",
            "1      5.000000  5.000000          23  \n",
            "2      3.000000  3.000000          58  \n",
            "3      3.320755  2.890909          52  \n",
            "4      4.000000  3.000000          72  \n",
            "..          ...       ...         ...  \n",
            "93     3.320755  2.890909          16  \n",
            "94     3.320755  2.890909          72  \n",
            "95     4.000000  3.000000          25  \n",
            "96     3.000000  2.000000          47  \n",
            "97     3.000000  3.000000          43  \n",
            "\n",
            "[98 rows x 8 columns]\n",
            "****************\n",
            "0     4.00\n",
            "1     6.00\n",
            "2     4.00\n",
            "3     4.86\n",
            "4     4.86\n",
            "      ... \n",
            "93    4.86\n",
            "94    4.86\n",
            "95    5.00\n",
            "96    4.00\n",
            "97    5.00\n",
            "Name: Ambientes, Length: 98, dtype: float64\n"
          ]
        }
      ]
    },
    {
      "cell_type": "code",
      "source": [
        "#INICIAMOS CON LA NORMALIZACIÓN"
      ],
      "metadata": {
        "id": "rHlygOngbq75"
      },
      "execution_count": 225,
      "outputs": []
    },
    {
      "cell_type": "code",
      "source": [
        "def  featureNormalize(X):\n",
        "    X_norm = X.copy()\n",
        "    mu = np.zeros(X.shape[1])\n",
        "    sigma = np.zeros(X.shape[1])\n",
        "\n",
        "    mu = np.mean(X, axis = 0)\n",
        "    sigma = np.std(X, axis = 0)\n",
        "    X_norm = (X - mu) / sigma\n",
        "\n",
        "    return X_norm, mu, sigma"
      ],
      "metadata": {
        "id": "hXIqOUaZZFvS"
      },
      "execution_count": 226,
      "outputs": []
    },
    {
      "cell_type": "code",
      "source": [
        "# llama featureNormalize con los datos cargados\n",
        "X_norm, mu, sigma = featureNormalize(X)\n",
        "\n",
        "print(X)\n",
        "print('Media calculada:', mu)\n",
        "print('Desviación estandar calculada:', sigma)\n",
        "print(X_norm)"
      ],
      "metadata": {
        "colab": {
          "base_uri": "https://localhost:8080/"
        },
        "id": "ceNdGwTmZIf8",
        "outputId": "82083e12-0269-4b82-a650-d588db8a838a"
      },
      "execution_count": 227,
      "outputs": [
        {
          "output_type": "stream",
          "name": "stdout",
          "text": [
            "    Tipo de Propiedad  Sector  Total construido  Precio  Referencia  \\\n",
            "0                   1      18                13      14          15   \n",
            "1                   0       7                57      71          48   \n",
            "2                   0       6                31      46          12   \n",
            "3                   5       5                58      34           5   \n",
            "4                   0       6                16      74          50   \n",
            "..                ...     ...               ...     ...         ...   \n",
            "93                  5      17                58      33          33   \n",
            "94                  5       2                58      68          19   \n",
            "95                  0      20                21      46          53   \n",
            "96                  1      12                10      16          24   \n",
            "97                  0      20                38      44          45   \n",
            "\n",
            "    Dormitorios     Ba�os  Superficie  \n",
            "0      3.000000  2.000000          72  \n",
            "1      5.000000  5.000000          23  \n",
            "2      3.000000  3.000000          58  \n",
            "3      3.320755  2.890909          52  \n",
            "4      4.000000  3.000000          72  \n",
            "..          ...       ...         ...  \n",
            "93     3.320755  2.890909          16  \n",
            "94     3.320755  2.890909          72  \n",
            "95     4.000000  3.000000          25  \n",
            "96     3.000000  2.000000          47  \n",
            "97     3.000000  3.000000          43  \n",
            "\n",
            "[98 rows x 8 columns]\n",
            "Media calculada: Tipo de Propiedad     2.387755\n",
            "Sector               11.326531\n",
            "Total construido     40.428571\n",
            "Precio               38.948980\n",
            "Referencia           41.693878\n",
            "Dormitorios           3.320755\n",
            "Ba�os                 2.890909\n",
            "Superficie           42.285714\n",
            "dtype: float64\n",
            "Desviación estandar calculada: Tipo de Propiedad     2.266133\n",
            "Sector                6.213507\n",
            "Total construido     19.323244\n",
            "Precio               22.207910\n",
            "Referencia           23.169036\n",
            "Dormitorios           0.792485\n",
            "Ba�os                 0.709595\n",
            "Superficie           24.878480\n",
            "dtype: float64\n",
            "    Tipo de Propiedad    Sector  Total construido    Precio  Referencia  \\\n",
            "0           -0.612389  1.074026         -1.419460 -1.123428   -1.152136   \n",
            "1           -1.053669 -0.696311          0.857590  1.443225    0.272179   \n",
            "2           -1.053669 -0.857250         -0.487939  0.317500   -1.281619   \n",
            "3            1.152732 -1.018190          0.909342 -0.222848   -1.583746   \n",
            "4           -1.053669 -0.857250         -1.264207  1.578312    0.358501   \n",
            "..                ...       ...               ...       ...         ...   \n",
            "93           1.152732  0.913087          0.909342 -0.267877   -0.375237   \n",
            "94           1.152732 -1.501009          0.909342  1.308138   -0.979492   \n",
            "95          -1.053669  1.395906         -1.005451  0.317500    0.487984   \n",
            "96          -0.612389  0.108388         -1.574713 -1.033370   -0.763686   \n",
            "97          -1.053669  1.395906         -0.125681  0.227442    0.142696   \n",
            "\n",
            "    Dormitorios         Ba�os  Superficie  \n",
            "0     -0.404746 -1.255518e+00    1.194377  \n",
            "1      2.118962  2.972246e+00   -0.775197  \n",
            "2     -0.404746  1.537369e-01    0.631642  \n",
            "3      0.000000  1.251670e-15    0.390469  \n",
            "4      0.857108  1.537369e-01    1.194377  \n",
            "..          ...           ...         ...  \n",
            "93     0.000000  1.251670e-15   -1.056564  \n",
            "94     0.000000  1.251670e-15    1.194377  \n",
            "95     0.857108  1.537369e-01   -0.694806  \n",
            "96    -0.404746 -1.255518e+00    0.189493  \n",
            "97    -0.404746  1.537369e-01    0.028711  \n",
            "\n",
            "[98 rows x 8 columns]\n"
          ]
        }
      ]
    },
    {
      "cell_type": "code",
      "source": [
        "# Añade el termino de interseccion a X\n",
        "# (Columna de unos para X0)\n",
        "X = np.concatenate([np.ones((m, 1)), X_norm], axis=1)"
      ],
      "metadata": {
        "id": "PMGVucSUZLOb"
      },
      "execution_count": 228,
      "outputs": []
    },
    {
      "cell_type": "code",
      "source": [
        "#FUNCION DE COSTO"
      ],
      "metadata": {
        "id": "QptIukYex9Gu"
      },
      "execution_count": 229,
      "outputs": []
    },
    {
      "cell_type": "code",
      "source": [
        "def computeCostMulti(X, y, theta):\n",
        "    # Inicializa algunos valores utiles\n",
        "    m = y.shape[0] # numero de ejemplos de entrenamiento\n",
        "\n",
        "    J = 0\n",
        "\n",
        "    h = np.dot(X, theta)\n",
        "\n",
        "    J = (1/(2 * m)) * np.sum(np.square(np.dot(X, theta) - y))\n",
        "\n",
        "    return J"
      ],
      "metadata": {
        "id": "vaT0uNmkZOLM"
      },
      "execution_count": 230,
      "outputs": []
    },
    {
      "cell_type": "code",
      "source": [
        "# DESCENSO POR LA GRADIENTE"
      ],
      "metadata": {
        "id": "J1b3KQuSxd3y"
      },
      "execution_count": 231,
      "outputs": []
    },
    {
      "cell_type": "code",
      "source": [
        "def gradientDescentMulti(X, y, theta, alpha, num_iters):\n",
        "\n",
        "    # Inicializa algunos valores\n",
        "    m = y.shape[0] # numero de ejemplos de entrenamiento\n",
        "\n",
        "    # realiza una copia de theta, el cual será acutalizada por el descenso por el gradiente\n",
        "    theta = theta.copy()\n",
        "\n",
        "    J_history = []\n",
        "\n",
        "    for i in range(num_iters):\n",
        "        theta = theta - (alpha / m) * (np.dot(X, theta) - y).dot(X)\n",
        "        J_history.append(computeCostMulti(X, y, theta))\n",
        "\n",
        "    return theta, J_history"
      ],
      "metadata": {
        "id": "Mq8BZRgpZQqe"
      },
      "execution_count": 232,
      "outputs": []
    },
    {
      "cell_type": "code",
      "source": [
        "fila_deseada = 1\n",
        "if fila_deseada < len(data):\n",
        "  fila_completa = data.iloc[fila_deseada].to_numpy()\n",
        "  print(fila_completa)\n",
        "else:\n",
        "    print(\"la fila no existe\")"
      ],
      "metadata": {
        "colab": {
          "base_uri": "https://localhost:8080/"
        },
        "id": "vvB14WifZgoy",
        "outputId": "bf7b9bae-c261-44ee-8b13-491d72e7e54f"
      },
      "execution_count": 233,
      "outputs": [
        {
          "output_type": "stream",
          "name": "stdout",
          "text": [
            "[ 0.  7. 57. 71. 48.  5.  5. 23.  6.]\n"
          ]
        }
      ]
    },
    {
      "cell_type": "code",
      "source": [
        "# Elegir algun valor para alpha (probar varias alternativas)\n",
        "alpha = 0.001\n",
        "num_iters = 5000\n",
        "\n",
        "# inicializa theta y ejecuta el descenso por el gradiente\n",
        "theta = np.zeros(9)\n",
        "theta, J_history = gradientDescentMulti(X, y, theta, alpha, num_iters)\n",
        "\n",
        "# Grafica la convergencia del costo\n",
        "pyplot.plot(np.arange(len(J_history)), J_history, lw=2)\n",
        "pyplot.xlabel('Numero de iteraciones')\n",
        "pyplot.ylabel('Costo J')\n",
        "\n",
        "# Muestra los resultados del descenso por el gradiente\n",
        "print('theta calculado por el descenso por el gradiente: {:s}'.format(str(theta)))\n",
        "\n",
        "# Estimar el precio para un smart watch con distintas caracteristicas\n",
        "X_array = [0.,  7., 57., 71., 48.,  5.,  5., 23.,  6.]\n",
        "X_array[1:9] = (X_array[1:9] - mu) / sigma\n",
        "price = np.dot(X_array, theta)   # Se debe cambiar esto\n",
        "\n",
        "print('El valor predecido es (usando el descenso por el gradiente): {:.4f}'.format(price))"
      ],
      "metadata": {
        "colab": {
          "base_uri": "https://localhost:8080/",
          "height": 501
        },
        "id": "rT0ST3I3ZU2Q",
        "outputId": "5aae79eb-64a1-445a-e50a-f53f1b044ee6"
      },
      "execution_count": 234,
      "outputs": [
        {
          "output_type": "stream",
          "name": "stdout",
          "text": [
            "theta calculado por el descenso por el gradiente: [ 4.8273354  -0.10818376 -0.0376359   0.19874539 -0.01391571 -0.01927931\n",
            "  0.69753512  0.11731186 -0.01514428]\n",
            "El valor predecido es (usando el descenso por el gradiente): 4.6671\n"
          ]
        },
        {
          "output_type": "display_data",
          "data": {
            "text/plain": [
              "<Figure size 640x480 with 1 Axes>"
            ],
            "image/png": "[encoded data removed]"
          },
          "metadata": {}
        }
      ]
    },
    {
      "cell_type": "code",
      "source": [
        "X_array = [0.,  7., 57., 71., 48.,  5.,  5., 23.,  6.]\n",
        "X_array[1:9] = (X_array[1:2] - mu) / sigma"
      ],
      "metadata": {
        "id": "mPXL8eGqZsaj"
      },
      "execution_count": 235,
      "outputs": []
    },
    {
      "cell_type": "code",
      "source": [
        "X_array[1:9]"
      ],
      "metadata": {
        "id": "FNP4gXcIZz_k",
        "colab": {
          "base_uri": "https://localhost:8080/"
        },
        "outputId": "4c686016-8bf1-408b-cde8-607de3a0ee07"
      },
      "execution_count": 236,
      "outputs": [
        {
          "output_type": "execute_result",
          "data": {
            "text/plain": [
              "[2.0352928215429267,\n",
              " -0.6963106238227914,\n",
              " -1.7299668517818778,\n",
              " -1.4386306201676395,\n",
              " -1.4974242750139868,\n",
              " 4.6426691539050315,\n",
              " 5.7907552633252735,\n",
              " -1.418322745050251]"
            ]
          },
          "metadata": {},
          "execution_count": 236
        }
      ]
    },
    {
      "cell_type": "code",
      "source": [
        "def normalEqn(X, y):\n",
        "\n",
        "    theta = np.zeros(X.shape[1])\n",
        "\n",
        "    theta = np.dot(np.dot(np.linalg.inv(np.dot(X.T,X)),X.T),y)\n",
        "\n",
        "    return theta"
      ],
      "metadata": {
        "id": "p7UD675sZ-Cx"
      },
      "execution_count": 237,
      "outputs": []
    },
    {
      "cell_type": "code",
      "source": [
        "# Calcula los parametros con la ecuación de la normal\n",
        "theta = normalEqn(X, y);\n",
        "\n",
        "# Muestra los resultados optenidos a partir de la aplicación de la ecuación de la normal\n",
        "print('Theta calculado a partir de la ecuación de la normal: {:s}'.format(str(theta)));\n",
        "\n",
        "\n",
        "X_array = [0.,  7., 57., 71., 48.,  5.,  5., 23.,  6.]\n",
        "price = np.dot(X_array, theta)\n",
        "\n",
        "print('Precio predecido (usando la ecuación de la normal): ${:.0f}'.format(price))"
      ],
      "metadata": {
        "id": "Dd_C82nhaCle",
        "colab": {
          "base_uri": "https://localhost:8080/"
        },
        "outputId": "1790a093-5027-4d55-9c3f-1dfaddb66a44"
      },
      "execution_count": 238,
      "outputs": [
        {
          "output_type": "stream",
          "name": "stdout",
          "text": [
            "Theta calculado a partir de la ecuación de la normal: [ 4.86       -0.1827709  -0.04441551  0.2755752  -0.02781936 -0.02436271\n",
            "  0.81266659 -0.04068182 -0.02571356]\n",
            "Precio predecido (usando la ecuación de la normal): $17\n"
          ]
        }
      ]
    }
  ]
}